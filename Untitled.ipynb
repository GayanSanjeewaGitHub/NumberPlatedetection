{
 "cells": [
  {
   "cell_type": "code",
   "execution_count": 5,
   "id": "0a668f7e",
   "metadata": {},
   "outputs": [
    {
     "name": "stdout",
     "output_type": "stream",
     "text": [
      "Defaulting to user installation because normal site-packages is not writeable\n",
      "Collecting opencv-python==4.5.4.60\n",
      "  Using cached opencv_python-4.5.4.60-cp39-cp39-win_amd64.whl (35.1 MB)\n",
      "Requirement already satisfied: numpy>=1.19.3 in c:\\users\\msi katana\\appdata\\roaming\\python\\python39\\site-packages (from opencv-python==4.5.4.60) (1.23.5)\n",
      "Installing collected packages: opencv-python\n",
      "  Attempting uninstall: opencv-python\n",
      "    Found existing installation: opencv-python 4.7.0.72\n",
      "    Uninstalling opencv-python-4.7.0.72:\n",
      "      Successfully uninstalled opencv-python-4.7.0.72\n",
      "  Rolling back uninstall of opencv-python\n",
      "  Moving to c:\\users\\msi katana\\appdata\\roaming\\python\\python39\\site-packages\\cv2\\__init__.py\n",
      "   from C:\\Users\\MSI KATANA\\AppData\\Local\\Temp\\pip-uninstall-2oiepk8u\\__init__.py\n",
      "  Moving to c:\\users\\msi katana\\appdata\\roaming\\python\\python39\\site-packages\\cv2\\__pycache__\\__init__.cpython-39.pyc\n",
      "   from C:\\Users\\MSI KATANA\\AppData\\Local\\Temp\\pip-uninstall-2oiepk8u\\__pycache__\\__init__.cpython-39.pyc\n",
      "  Moving to c:\\users\\msi katana\\appdata\\roaming\\python\\python39\\site-packages\\cv2\\__pycache__\\config-3.cpython-39.pyc\n",
      "   from C:\\Users\\MSI KATANA\\AppData\\Local\\Temp\\pip-uninstall-2oiepk8u\\__pycache__\\config-3.cpython-39.pyc\n",
      "  Moving to c:\\users\\msi katana\\appdata\\roaming\\python\\python39\\site-packages\\cv2\\__pycache__\\config.cpython-39.pyc\n",
      "   from C:\\Users\\MSI KATANA\\AppData\\Local\\Temp\\pip-uninstall-2oiepk8u\\__pycache__\\config.cpython-39.pyc\n",
      "  Moving to c:\\users\\msi katana\\appdata\\roaming\\python\\python39\\site-packages\\cv2\\__pycache__\\load_config_py2.cpython-39.pyc\n",
      "   from C:\\Users\\MSI KATANA\\AppData\\Local\\Temp\\pip-uninstall-2oiepk8u\\__pycache__\\load_config_py2.cpython-39.pyc\n",
      "  Moving to c:\\users\\msi katana\\appdata\\roaming\\python\\python39\\site-packages\\cv2\\__pycache__\\load_config_py3.cpython-39.pyc\n",
      "   from C:\\Users\\MSI KATANA\\AppData\\Local\\Temp\\pip-uninstall-2oiepk8u\\__pycache__\\load_config_py3.cpython-39.pyc\n",
      "  Moving to c:\\users\\msi katana\\appdata\\roaming\\python\\python39\\site-packages\\cv2\\__pycache__\\version.cpython-39.pyc\n",
      "   from C:\\Users\\MSI KATANA\\AppData\\Local\\Temp\\pip-uninstall-2oiepk8u\\__pycache__\\version.cpython-39.pyc\n",
      "  Moving to c:\\users\\msi katana\\appdata\\roaming\\python\\python39\\site-packages\\cv2\\config-3.py\n",
      "   from C:\\Users\\MSI KATANA\\AppData\\Local\\Temp\\pip-uninstall-2oiepk8u\\config-3.py\n",
      "  Moving to c:\\users\\msi katana\\appdata\\roaming\\python\\python39\\site-packages\\cv2\\config.py\n",
      "   from C:\\Users\\MSI KATANA\\AppData\\Local\\Temp\\pip-uninstall-2oiepk8u\\config.py\n",
      "  Moving to c:\\users\\msi katana\\appdata\\roaming\\python\\python39\\site-packages\\cv2\\cv2.pyd\n",
      "   from C:\\Users\\MSI KATANA\\AppData\\Local\\Temp\\pip-uninstall-2oiepk8u\\cv2.pyd\n",
      "  Moving to c:\\users\\msi katana\\appdata\\roaming\\python\\python39\\site-packages\\cv2\\data\\__init__.py\n",
      "   from C:\\Users\\MSI KATANA\\AppData\\Local\\Temp\\pip-uninstall-2oiepk8u\\data\\__init__.py\n",
      "  Moving to c:\\users\\msi katana\\appdata\\roaming\\python\\python39\\site-packages\\cv2\\data\\__pycache__\\\n",
      "   from C:\\Users\\MSI KATANA\\AppData\\Roaming\\Python\\Python39\\site-packages\\cv2\\data\\~_pycache__\n",
      "  Moving to c:\\users\\msi katana\\appdata\\roaming\\python\\python39\\site-packages\\cv2\\data\\haarcascade_eye.xml\n",
      "   from C:\\Users\\MSI KATANA\\AppData\\Local\\Temp\\pip-uninstall-2oiepk8u\\data\\haarcascade_eye.xml\n",
      "  Moving to c:\\users\\msi katana\\appdata\\roaming\\python\\python39\\site-packages\\cv2\\data\\haarcascade_eye_tree_eyeglasses.xml\n",
      "   from C:\\Users\\MSI KATANA\\AppData\\Local\\Temp\\pip-uninstall-2oiepk8u\\data\\haarcascade_eye_tree_eyeglasses.xml\n",
      "  Moving to c:\\users\\msi katana\\appdata\\roaming\\python\\python39\\site-packages\\cv2\\data\\haarcascade_frontalcatface.xml\n",
      "   from C:\\Users\\MSI KATANA\\AppData\\Local\\Temp\\pip-uninstall-2oiepk8u\\data\\haarcascade_frontalcatface.xml\n",
      "  Moving to c:\\users\\msi katana\\appdata\\roaming\\python\\python39\\site-packages\\cv2\\data\\haarcascade_frontalcatface_extended.xml\n",
      "   from C:\\Users\\MSI KATANA\\AppData\\Local\\Temp\\pip-uninstall-2oiepk8u\\data\\haarcascade_frontalcatface_extended.xml\n",
      "  Moving to c:\\users\\msi katana\\appdata\\roaming\\python\\python39\\site-packages\\cv2\\data\\haarcascade_frontalface_alt.xml\n",
      "   from C:\\Users\\MSI KATANA\\AppData\\Local\\Temp\\pip-uninstall-2oiepk8u\\data\\haarcascade_frontalface_alt.xml\n",
      "  Moving to c:\\users\\msi katana\\appdata\\roaming\\python\\python39\\site-packages\\cv2\\data\\haarcascade_frontalface_alt2.xml\n",
      "   from C:\\Users\\MSI KATANA\\AppData\\Local\\Temp\\pip-uninstall-2oiepk8u\\data\\haarcascade_frontalface_alt2.xml\n",
      "  Moving to c:\\users\\msi katana\\appdata\\roaming\\python\\python39\\site-packages\\cv2\\data\\haarcascade_frontalface_alt_tree.xml\n",
      "   from C:\\Users\\MSI KATANA\\AppData\\Local\\Temp\\pip-uninstall-2oiepk8u\\data\\haarcascade_frontalface_alt_tree.xml\n",
      "  Moving to c:\\users\\msi katana\\appdata\\roaming\\python\\python39\\site-packages\\cv2\\data\\haarcascade_frontalface_default.xml\n",
      "   from C:\\Users\\MSI KATANA\\AppData\\Local\\Temp\\pip-uninstall-2oiepk8u\\data\\haarcascade_frontalface_default.xml\n",
      "  Moving to c:\\users\\msi katana\\appdata\\roaming\\python\\python39\\site-packages\\cv2\\data\\haarcascade_fullbody.xml\n",
      "   from C:\\Users\\MSI KATANA\\AppData\\Local\\Temp\\pip-uninstall-2oiepk8u\\data\\haarcascade_fullbody.xml\n",
      "  Moving to c:\\users\\msi katana\\appdata\\roaming\\python\\python39\\site-packages\\cv2\\data\\haarcascade_lefteye_2splits.xml\n",
      "   from C:\\Users\\MSI KATANA\\AppData\\Local\\Temp\\pip-uninstall-2oiepk8u\\data\\haarcascade_lefteye_2splits.xml\n",
      "  Moving to c:\\users\\msi katana\\appdata\\roaming\\python\\python39\\site-packages\\cv2\\data\\haarcascade_license_plate_rus_16stages.xml\n",
      "   from C:\\Users\\MSI KATANA\\AppData\\Local\\Temp\\pip-uninstall-2oiepk8u\\data\\haarcascade_license_plate_rus_16stages.xml\n",
      "  Moving to c:\\users\\msi katana\\appdata\\roaming\\python\\python39\\site-packages\\cv2\\data\\haarcascade_lowerbody.xml\n",
      "   from C:\\Users\\MSI KATANA\\AppData\\Local\\Temp\\pip-uninstall-2oiepk8u\\data\\haarcascade_lowerbody.xml\n",
      "  Moving to c:\\users\\msi katana\\appdata\\roaming\\python\\python39\\site-packages\\cv2\\data\\haarcascade_profileface.xml\n",
      "   from C:\\Users\\MSI KATANA\\AppData\\Local\\Temp\\pip-uninstall-2oiepk8u\\data\\haarcascade_profileface.xml\n",
      "  Moving to c:\\users\\msi katana\\appdata\\roaming\\python\\python39\\site-packages\\cv2\\data\\haarcascade_righteye_2splits.xml\n",
      "   from C:\\Users\\MSI KATANA\\AppData\\Local\\Temp\\pip-uninstall-2oiepk8u\\data\\haarcascade_righteye_2splits.xml\n",
      "  Moving to c:\\users\\msi katana\\appdata\\roaming\\python\\python39\\site-packages\\cv2\\data\\haarcascade_russian_plate_number.xml\n",
      "   from C:\\Users\\MSI KATANA\\AppData\\Local\\Temp\\pip-uninstall-2oiepk8u\\data\\haarcascade_russian_plate_number.xml\n",
      "  Moving to c:\\users\\msi katana\\appdata\\roaming\\python\\python39\\site-packages\\cv2\\data\\haarcascade_smile.xml\n",
      "   from C:\\Users\\MSI KATANA\\AppData\\Local\\Temp\\pip-uninstall-2oiepk8u\\data\\haarcascade_smile.xml\n",
      "  Moving to c:\\users\\msi katana\\appdata\\roaming\\python\\python39\\site-packages\\cv2\\data\\haarcascade_upperbody.xml\n",
      "   from C:\\Users\\MSI KATANA\\AppData\\Local\\Temp\\pip-uninstall-2oiepk8u\\data\\haarcascade_upperbody.xml\n",
      "  Moving to c:\\users\\msi katana\\appdata\\roaming\\python\\python39\\site-packages\\cv2\\gapi\\\n",
      "   from C:\\Users\\MSI KATANA\\AppData\\Roaming\\Python\\Python39\\site-packages\\cv2\\~api\n",
      "  Moving to c:\\users\\msi katana\\appdata\\roaming\\python\\python39\\site-packages\\cv2\\license-3rd-party.txt\n",
      "   from C:\\Users\\MSI KATANA\\AppData\\Local\\Temp\\pip-uninstall-2oiepk8u\\license-3rd-party.txt\n",
      "  Moving to c:\\users\\msi katana\\appdata\\roaming\\python\\python39\\site-packages\\cv2\\license.txt\n",
      "   from C:\\Users\\MSI KATANA\\AppData\\Local\\Temp\\pip-uninstall-2oiepk8u\\license.txt\n",
      "  Moving to c:\\users\\msi katana\\appdata\\roaming\\python\\python39\\site-packages\\cv2\\load_config_py2.py\n",
      "   from C:\\Users\\MSI KATANA\\AppData\\Local\\Temp\\pip-uninstall-2oiepk8u\\load_config_py2.py\n",
      "  Moving to c:\\users\\msi katana\\appdata\\roaming\\python\\python39\\site-packages\\cv2\\load_config_py3.py\n",
      "   from C:\\Users\\MSI KATANA\\AppData\\Local\\Temp\\pip-uninstall-2oiepk8u\\load_config_py3.py\n",
      "  Moving to c:\\users\\msi katana\\appdata\\roaming\\python\\python39\\site-packages\\cv2\\mat_wrapper\\\n",
      "   from C:\\Users\\MSI KATANA\\AppData\\Roaming\\Python\\Python39\\site-packages\\cv2\\~at_wrapper\n",
      "  Moving to c:\\users\\msi katana\\appdata\\roaming\\python\\python39\\site-packages\\cv2\\misc\\\n",
      "   from C:\\Users\\MSI KATANA\\AppData\\Roaming\\Python\\Python39\\site-packages\\cv2\\~isc\n",
      "  Moving to c:\\users\\msi katana\\appdata\\roaming\\python\\python39\\site-packages\\cv2\\opencv_videoio_ffmpeg470_64.dll\n",
      "   from C:\\Users\\MSI KATANA\\AppData\\Local\\Temp\\pip-uninstall-2oiepk8u\\opencv_videoio_ffmpeg470_64.dll\n",
      "  Moving to c:\\users\\msi katana\\appdata\\roaming\\python\\python39\\site-packages\\cv2\\utils\\\n",
      "   from C:\\Users\\MSI KATANA\\AppData\\Roaming\\Python\\Python39\\site-packages\\cv2\\~tils\n",
      "  Moving to c:\\users\\msi katana\\appdata\\roaming\\python\\python39\\site-packages\\cv2\\version.py\n",
      "   from C:\\Users\\MSI KATANA\\AppData\\Local\\Temp\\pip-uninstall-2oiepk8u\\version.py\n",
      "  Moving to c:\\users\\msi katana\\appdata\\roaming\\python\\python39\\site-packages\\opencv_python-4.7.0.72.dist-info\\\n",
      "   from C:\\Users\\MSI KATANA\\AppData\\Roaming\\Python\\Python39\\site-packages\\~pencv_python-4.7.0.72.dist-info\n"
     ]
    },
    {
     "name": "stderr",
     "output_type": "stream",
     "text": [
      "ERROR: Could not install packages due to an OSError: [WinError 5] Access is denied: 'C:\\\\Users\\\\MSI KATANA\\\\AppData\\\\Roaming\\\\Python\\\\Python39\\\\site-packages\\\\cv2\\\\cv2.cp39-win_amd64.pyd'\n",
      "Check the permissions.\n",
      "\n"
     ]
    }
   ],
   "source": [
    "!pip install opencv-python==4.5.4.60"
   ]
  },
  {
   "cell_type": "code",
   "execution_count": 6,
   "id": "44b4e50a",
   "metadata": {},
   "outputs": [
    {
     "ename": "ImportError",
     "evalue": "cannot import name 'dnn_superres' from 'cv2' (C:\\Users\\MSI KATANA\\AppData\\Roaming\\Python\\Python39\\site-packages\\cv2\\__init__.py)",
     "output_type": "error",
     "traceback": [
      "\u001b[1;31m---------------------------------------------------------------------------\u001b[0m",
      "\u001b[1;31mImportError\u001b[0m                               Traceback (most recent call last)",
      "\u001b[1;32m~\\AppData\\Local\\Temp\\ipykernel_20736\\2469412188.py\u001b[0m in \u001b[0;36m<module>\u001b[1;34m\u001b[0m\n\u001b[0;32m      1\u001b[0m \u001b[1;32mimport\u001b[0m \u001b[0mthreading\u001b[0m\u001b[1;33m\u001b[0m\u001b[1;33m\u001b[0m\u001b[0m\n\u001b[0;32m      2\u001b[0m \u001b[1;32mimport\u001b[0m \u001b[0mcv2\u001b[0m\u001b[1;33m\u001b[0m\u001b[1;33m\u001b[0m\u001b[0m\n\u001b[1;32m----> 3\u001b[1;33m \u001b[1;32mfrom\u001b[0m \u001b[0mcv2\u001b[0m \u001b[1;32mimport\u001b[0m \u001b[0mdnn_superres\u001b[0m\u001b[1;33m\u001b[0m\u001b[1;33m\u001b[0m\u001b[0m\n\u001b[0m\u001b[0;32m      4\u001b[0m \u001b[1;32mimport\u001b[0m \u001b[0mnumpy\u001b[0m \u001b[1;32mas\u001b[0m \u001b[0mnp\u001b[0m\u001b[1;33m\u001b[0m\u001b[1;33m\u001b[0m\u001b[0m\n\u001b[0;32m      5\u001b[0m \u001b[1;32mimport\u001b[0m \u001b[0mdatetime\u001b[0m\u001b[1;33m\u001b[0m\u001b[1;33m\u001b[0m\u001b[0m\n",
      "\u001b[1;31mImportError\u001b[0m: cannot import name 'dnn_superres' from 'cv2' (C:\\Users\\MSI KATANA\\AppData\\Roaming\\Python\\Python39\\site-packages\\cv2\\__init__.py)"
     ]
    }
   ],
   "source": [
    "import threading\n",
    "import cv2\n",
    "from cv2 import dnn_superres\n",
    "import numpy as np\n",
    "import datetime\n",
    "from transform import four_point_transform\n",
    "import re\n",
    "import copy\n",
    "from lpfix import lpfix\n",
    "\n",
    "from PIL import Image\n",
    "import requests\n",
    "from io import BytesIO"
   ]
  },
  {
   "cell_type": "code",
   "execution_count": null,
   "id": "d2ab0992",
   "metadata": {},
   "outputs": [],
   "source": []
  },
  {
   "cell_type": "code",
   "execution_count": null,
   "id": "ac7dfc26",
   "metadata": {},
   "outputs": [],
   "source": []
  }
 ],
 "metadata": {
  "kernelspec": {
   "display_name": "Python 3 (ipykernel)",
   "language": "python",
   "name": "python3"
  },
  "language_info": {
   "codemirror_mode": {
    "name": "ipython",
    "version": 3
   },
   "file_extension": ".py",
   "mimetype": "text/x-python",
   "name": "python",
   "nbconvert_exporter": "python",
   "pygments_lexer": "ipython3",
   "version": "3.9.13"
  }
 },
 "nbformat": 4,
 "nbformat_minor": 5
}
